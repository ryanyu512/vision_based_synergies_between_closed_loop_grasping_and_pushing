{
 "cells": [
  {
   "cell_type": "code",
   "execution_count": 1,
   "metadata": {},
   "outputs": [],
   "source": [
    "import copy\n",
    "import utils\n",
    "import torch\n",
    "import constants\n",
    "import numpy as np\n",
    "import torch.nn as nn\n",
    "import torch.optim as optim\n",
    "import matplotlib.pyplot as plt\n",
    "from torch.distributions import Normal, Categorical\n",
    "\n",
    "from env import Env\n",
    "from agent import Agent\n",
    "from torchsummary import summary"
   ]
  },
  {
   "cell_type": "markdown",
   "metadata": {},
   "source": [
    "# Initialise Environment"
   ]
  },
  {
   "cell_type": "code",
   "execution_count": 2,
   "metadata": {},
   "outputs": [
    {
     "name": "stdout",
     "output_type": "stream",
     "text": [
      "workspace space: \n",
      "[[-0.285  0.065]\n",
      " [ 0.335  0.685]\n",
      " [ 0.     0.4  ]]\n",
      "[SUCCESS] restart environment\n",
      "[SUCCESS] setup rgbd camera\n",
      "[SUCCESS] load obj paths\n",
      "[SUCCESS] randomly choose objects\n",
      "[SUCCESS] randomly choose object colors\n",
      "object 0: shape_0, pose: [-0.21864485058366134, 0.6061462888887129, 0.15, 5.01677905609941, 3.9754634898561556, 5.377313770117954]\n",
      "[SUCCESS] add objects to simulation\n"
     ]
    }
   ],
   "source": [
    "#initialise environment\n",
    "min_x, max_x =  -0.110 - 0.175,   -0.110 + 0.175\n",
    "min_y, max_y =   0.510 - 0.175,    0.510 + 0.175\n",
    "min_z, max_z =               0,              0.4 \n",
    "\n",
    "workspace_lim = np.asarray([[min_x, max_x], \n",
    "                            [min_y, max_y],\n",
    "                            [min_z, max_z]])\n",
    "\n",
    "print(f\"workspace space: \\n{workspace_lim}\")\n",
    "\n",
    "obj_dir = 'objects/blocks/'\n",
    "N_obj   = 1\n",
    "\n",
    "env = Env(obj_dir, N_obj, workspace_lim)"
   ]
  },
  {
   "cell_type": "markdown",
   "metadata": {},
   "source": [
    "# Test Environment Reset"
   ]
  },
  {
   "cell_type": "code",
   "execution_count": 3,
   "metadata": {},
   "outputs": [
    {
     "name": "stdout",
     "output_type": "stream",
     "text": [
      "[SUCCESS] restart environment\n",
      "[SUCCESS] setup rgbd camera\n",
      "[SUCCESS] load obj paths\n",
      "object 0: shape_0, pose: [-0.20033428892096974, 0.5982588308011253, 0.02599026618328189, 1.565187168305127, -0.7566068208061396, 1.559547456018734]\n",
      "[SUCCESS] add objects to simulation\n"
     ]
    }
   ],
   "source": [
    "env.reset(reset_obj = False)"
   ]
  },
  {
   "cell_type": "markdown",
   "metadata": {},
   "source": [
    "# Initialise Agent"
   ]
  },
  {
   "cell_type": "code",
   "execution_count": 4,
   "metadata": {},
   "outputs": [
    {
     "name": "stdout",
     "output_type": "stream",
     "text": [
      "device: cpu\n",
      "[SUCCESS] initialise environment\n",
      "[SUCCESS] initialise networks\n",
      "[SUCCESS] initialise memory buffer\n"
     ]
    },
    {
     "name": "stderr",
     "output_type": "stream",
     "text": [
      "/home/ryan/anaconda3/envs/pytorch_env/lib/python3.9/site-packages/torch/cuda/__init__.py:118: UserWarning: CUDA initialization: CUDA unknown error - this may be due to an incorrectly set up environment, e.g. changing env variable CUDA_VISIBLE_DEVICES after program start. Setting the available devices to be zero. (Triggered internally at /opt/conda/conda-bld/pytorch_1716905969824/work/c10/cuda/CUDAFunctions.cpp:108.)\n",
      "  return torch._C._cuda_getDeviceCount() > 0\n"
     ]
    }
   ],
   "source": [
    "agent = Agent(env, N_batch = 8)"
   ]
  },
  {
   "cell_type": "markdown",
   "metadata": {},
   "source": [
    "# Check Network Architecture"
   ]
  },
  {
   "cell_type": "code",
   "execution_count": 5,
   "metadata": {},
   "outputs": [
    {
     "name": "stdout",
     "output_type": "stream",
     "text": [
      "----------------------------------------------------------------\n",
      "        Layer (type)               Output Shape         Param #\n",
      "================================================================\n",
      "            Conv2d-1            [-1, 8, 64, 64]              80\n",
      "       BatchNorm2d-2            [-1, 8, 64, 64]              16\n",
      "              ReLU-3            [-1, 8, 64, 64]               0\n",
      "            Conv2d-4           [-1, 16, 32, 32]           1,168\n",
      "       BatchNorm2d-5           [-1, 16, 32, 32]              32\n",
      "              ReLU-6           [-1, 16, 32, 32]               0\n",
      "            Conv2d-7           [-1, 32, 16, 16]           4,640\n",
      "       BatchNorm2d-8           [-1, 32, 16, 16]              64\n",
      "              ReLU-9           [-1, 32, 16, 16]               0\n",
      "           Conv2d-10             [-1, 64, 8, 8]          18,496\n",
      "      BatchNorm2d-11             [-1, 64, 8, 8]             128\n",
      "             ReLU-12             [-1, 64, 8, 8]               0\n",
      "           Conv2d-13            [-1, 128, 4, 4]          73,856\n",
      "      BatchNorm2d-14            [-1, 128, 4, 4]             256\n",
      "             ReLU-15            [-1, 128, 4, 4]               0\n",
      "           Conv2d-16            [-1, 256, 2, 2]         295,168\n",
      "      BatchNorm2d-17            [-1, 256, 2, 2]             512\n",
      "             ReLU-18            [-1, 256, 2, 2]               0\n",
      "           Conv2d-19            [-1, 512, 1, 1]       1,180,160\n",
      "      BatchNorm2d-20            [-1, 512, 1, 1]           1,024\n",
      "             ReLU-21            [-1, 512, 1, 1]               0\n",
      "          Flatten-22                  [-1, 512]               0\n",
      "           Linear-23                  [-1, 256]         131,328\n",
      "      BatchNorm1d-24                  [-1, 256]             512\n",
      "             ReLU-25                  [-1, 256]               0\n",
      "           Linear-26                  [-1, 256]          65,792\n",
      "      BatchNorm1d-27                  [-1, 256]             512\n",
      "             ReLU-28                  [-1, 256]               0\n",
      "           Linear-29                    [-1, 2]             514\n",
      "================================================================\n",
      "Total params: 1,774,258\n",
      "Trainable params: 1,774,258\n",
      "Non-trainable params: 0\n",
      "----------------------------------------------------------------\n",
      "Input size (MB): 0.06\n",
      "Forward/backward pass size (MB): 1.50\n",
      "Params size (MB): 6.77\n",
      "Estimated Total Size (MB): 8.33\n",
      "----------------------------------------------------------------\n"
     ]
    }
   ],
   "source": [
    "summary(agent.hld_net, input_size=(1, 128, 128))"
   ]
  },
  {
   "cell_type": "code",
   "execution_count": 6,
   "metadata": {},
   "outputs": [
    {
     "name": "stdout",
     "output_type": "stream",
     "text": [
      "----------------------------------------------------------------\n",
      "        Layer (type)               Output Shape         Param #\n",
      "================================================================\n",
      "            Conv2d-1            [-1, 8, 64, 64]             152\n",
      "       BatchNorm2d-2            [-1, 8, 64, 64]              16\n",
      "              ReLU-3            [-1, 8, 64, 64]               0\n",
      "            Conv2d-4           [-1, 16, 32, 32]           1,168\n",
      "       BatchNorm2d-5           [-1, 16, 32, 32]              32\n",
      "              ReLU-6           [-1, 16, 32, 32]               0\n",
      "            Conv2d-7           [-1, 32, 16, 16]           4,640\n",
      "       BatchNorm2d-8           [-1, 32, 16, 16]              64\n",
      "              ReLU-9           [-1, 32, 16, 16]               0\n",
      "           Conv2d-10             [-1, 64, 8, 8]          18,496\n",
      "      BatchNorm2d-11             [-1, 64, 8, 8]             128\n",
      "             ReLU-12             [-1, 64, 8, 8]               0\n",
      "           Conv2d-13            [-1, 128, 4, 4]          73,856\n",
      "      BatchNorm2d-14            [-1, 128, 4, 4]             256\n",
      "             ReLU-15            [-1, 128, 4, 4]               0\n",
      "           Conv2d-16            [-1, 256, 2, 2]         295,168\n",
      "      BatchNorm2d-17            [-1, 256, 2, 2]             512\n",
      "             ReLU-18            [-1, 256, 2, 2]               0\n",
      "           Conv2d-19            [-1, 512, 1, 1]       1,180,160\n",
      "      BatchNorm2d-20            [-1, 512, 1, 1]           1,024\n",
      "             ReLU-21            [-1, 512, 1, 1]               0\n",
      "          Flatten-22                  [-1, 512]               0\n",
      "           Linear-23                  [-1, 256]         131,328\n",
      "      BatchNorm1d-24                  [-1, 256]             512\n",
      "             ReLU-25                  [-1, 256]               0\n",
      "           Linear-26                  [-1, 256]          65,792\n",
      "      BatchNorm1d-27                  [-1, 256]             512\n",
      "             ReLU-28                  [-1, 256]               0\n",
      "           Linear-29                    [-1, 4]           1,028\n",
      "           Linear-30                    [-1, 4]           1,028\n",
      "           Linear-31                    [-1, 2]             514\n",
      "================================================================\n",
      "Total params: 1,776,386\n",
      "Trainable params: 1,776,386\n",
      "Non-trainable params: 0\n",
      "----------------------------------------------------------------\n",
      "Input size (MB): 0.12\n",
      "Forward/backward pass size (MB): 1.50\n",
      "Params size (MB): 6.78\n",
      "Estimated Total Size (MB): 8.41\n",
      "----------------------------------------------------------------\n"
     ]
    }
   ],
   "source": [
    "summary(agent.grasp_actor, input_size=(2, 128, 128))"
   ]
  },
  {
   "cell_type": "code",
   "execution_count": 7,
   "metadata": {},
   "outputs": [
    {
     "name": "stdout",
     "output_type": "stream",
     "text": [
      "----------------------------------------------------------------\n",
      "        Layer (type)               Output Shape         Param #\n",
      "================================================================\n",
      "            Conv2d-1            [-1, 8, 64, 64]             152\n",
      "       BatchNorm2d-2            [-1, 8, 64, 64]              16\n",
      "              ReLU-3            [-1, 8, 64, 64]               0\n",
      "            Conv2d-4           [-1, 16, 32, 32]           1,168\n",
      "       BatchNorm2d-5           [-1, 16, 32, 32]              32\n",
      "              ReLU-6           [-1, 16, 32, 32]               0\n",
      "            Conv2d-7           [-1, 32, 16, 16]           4,640\n",
      "       BatchNorm2d-8           [-1, 32, 16, 16]              64\n",
      "              ReLU-9           [-1, 32, 16, 16]               0\n",
      "           Conv2d-10             [-1, 64, 8, 8]          18,496\n",
      "      BatchNorm2d-11             [-1, 64, 8, 8]             128\n",
      "             ReLU-12             [-1, 64, 8, 8]               0\n",
      "           Conv2d-13            [-1, 128, 4, 4]          73,856\n",
      "      BatchNorm2d-14            [-1, 128, 4, 4]             256\n",
      "             ReLU-15            [-1, 128, 4, 4]               0\n",
      "           Conv2d-16            [-1, 256, 2, 2]         295,168\n",
      "      BatchNorm2d-17            [-1, 256, 2, 2]             512\n",
      "             ReLU-18            [-1, 256, 2, 2]               0\n",
      "           Conv2d-19            [-1, 512, 1, 1]       1,180,160\n",
      "      BatchNorm2d-20            [-1, 512, 1, 1]           1,024\n",
      "             ReLU-21            [-1, 512, 1, 1]               0\n",
      "          Flatten-22                  [-1, 512]               0\n",
      "           Linear-23                  [-1, 256]         131,328\n",
      "      BatchNorm1d-24                  [-1, 256]             512\n",
      "             ReLU-25                  [-1, 256]               0\n",
      "           Linear-26                  [-1, 256]          65,792\n",
      "      BatchNorm1d-27                  [-1, 256]             512\n",
      "             ReLU-28                  [-1, 256]               0\n",
      "           Linear-29                    [-1, 4]           1,028\n",
      "           Linear-30                    [-1, 4]           1,028\n",
      "================================================================\n",
      "Total params: 1,775,872\n",
      "Trainable params: 1,775,872\n",
      "Non-trainable params: 0\n",
      "----------------------------------------------------------------\n",
      "Input size (MB): 0.12\n",
      "Forward/backward pass size (MB): 1.50\n",
      "Params size (MB): 6.77\n",
      "Estimated Total Size (MB): 8.40\n",
      "----------------------------------------------------------------\n"
     ]
    }
   ],
   "source": [
    "summary(agent.push_actor, input_size=(2, 128, 128))"
   ]
  },
  {
   "cell_type": "code",
   "execution_count": 8,
   "metadata": {},
   "outputs": [
    {
     "name": "stdout",
     "output_type": "stream",
     "text": [
      "----------------------------------------------------------------\n",
      "        Layer (type)               Output Shape         Param #\n",
      "================================================================\n",
      "            Conv2d-1            [-1, 8, 64, 64]             584\n",
      "       BatchNorm2d-2            [-1, 8, 64, 64]              16\n",
      "              ReLU-3            [-1, 8, 64, 64]               0\n",
      "            Conv2d-4           [-1, 16, 32, 32]           1,168\n",
      "       BatchNorm2d-5           [-1, 16, 32, 32]              32\n",
      "              ReLU-6           [-1, 16, 32, 32]               0\n",
      "            Conv2d-7           [-1, 32, 16, 16]           4,640\n",
      "       BatchNorm2d-8           [-1, 32, 16, 16]              64\n",
      "              ReLU-9           [-1, 32, 16, 16]               0\n",
      "           Conv2d-10             [-1, 64, 8, 8]          18,496\n",
      "      BatchNorm2d-11             [-1, 64, 8, 8]             128\n",
      "             ReLU-12             [-1, 64, 8, 8]               0\n",
      "           Conv2d-13            [-1, 128, 4, 4]          73,856\n",
      "      BatchNorm2d-14            [-1, 128, 4, 4]             256\n",
      "             ReLU-15            [-1, 128, 4, 4]               0\n",
      "           Conv2d-16            [-1, 256, 2, 2]         295,168\n",
      "      BatchNorm2d-17            [-1, 256, 2, 2]             512\n",
      "             ReLU-18            [-1, 256, 2, 2]               0\n",
      "           Conv2d-19            [-1, 512, 1, 1]       1,180,160\n",
      "      BatchNorm2d-20            [-1, 512, 1, 1]           1,024\n",
      "             ReLU-21            [-1, 512, 1, 1]               0\n",
      "          Flatten-22                  [-1, 512]               0\n",
      "           Linear-23                  [-1, 256]         131,328\n",
      "      BatchNorm1d-24                  [-1, 256]             512\n",
      "             ReLU-25                  [-1, 256]               0\n",
      "           Linear-26                  [-1, 256]          65,792\n",
      "      BatchNorm1d-27                  [-1, 256]             512\n",
      "             ReLU-28                  [-1, 256]               0\n",
      "           Linear-29                    [-1, 1]             257\n",
      "================================================================\n",
      "Total params: 1,774,505\n",
      "Trainable params: 1,774,505\n",
      "Non-trainable params: 0\n",
      "----------------------------------------------------------------\n",
      "Input size (MB): 0.50\n",
      "Forward/backward pass size (MB): 1.50\n",
      "Params size (MB): 6.77\n",
      "Estimated Total Size (MB): 8.77\n",
      "----------------------------------------------------------------\n",
      "----------------------------------------------------------------\n",
      "        Layer (type)               Output Shape         Param #\n",
      "================================================================\n",
      "            Conv2d-1            [-1, 8, 64, 64]             584\n",
      "       BatchNorm2d-2            [-1, 8, 64, 64]              16\n",
      "              ReLU-3            [-1, 8, 64, 64]               0\n",
      "            Conv2d-4           [-1, 16, 32, 32]           1,168\n",
      "       BatchNorm2d-5           [-1, 16, 32, 32]              32\n",
      "              ReLU-6           [-1, 16, 32, 32]               0\n",
      "            Conv2d-7           [-1, 32, 16, 16]           4,640\n",
      "       BatchNorm2d-8           [-1, 32, 16, 16]              64\n",
      "              ReLU-9           [-1, 32, 16, 16]               0\n",
      "           Conv2d-10             [-1, 64, 8, 8]          18,496\n",
      "      BatchNorm2d-11             [-1, 64, 8, 8]             128\n",
      "             ReLU-12             [-1, 64, 8, 8]               0\n",
      "           Conv2d-13            [-1, 128, 4, 4]          73,856\n",
      "      BatchNorm2d-14            [-1, 128, 4, 4]             256\n",
      "             ReLU-15            [-1, 128, 4, 4]               0\n",
      "           Conv2d-16            [-1, 256, 2, 2]         295,168\n",
      "      BatchNorm2d-17            [-1, 256, 2, 2]             512\n",
      "             ReLU-18            [-1, 256, 2, 2]               0\n",
      "           Conv2d-19            [-1, 512, 1, 1]       1,180,160\n",
      "      BatchNorm2d-20            [-1, 512, 1, 1]           1,024\n",
      "             ReLU-21            [-1, 512, 1, 1]               0\n",
      "          Flatten-22                  [-1, 512]               0\n",
      "           Linear-23                  [-1, 256]         131,328\n",
      "      BatchNorm1d-24                  [-1, 256]             512\n",
      "             ReLU-25                  [-1, 256]               0\n",
      "           Linear-26                  [-1, 256]          65,792\n",
      "      BatchNorm1d-27                  [-1, 256]             512\n",
      "             ReLU-28                  [-1, 256]               0\n",
      "           Linear-29                    [-1, 1]             257\n",
      "================================================================\n",
      "Total params: 1,774,505\n",
      "Trainable params: 1,774,505\n",
      "Non-trainable params: 0\n",
      "----------------------------------------------------------------\n",
      "Input size (MB): 0.50\n",
      "Forward/backward pass size (MB): 1.50\n",
      "Params size (MB): 6.77\n",
      "Estimated Total Size (MB): 8.77\n",
      "----------------------------------------------------------------\n"
     ]
    }
   ],
   "source": [
    "summary(agent.grasp_critic1, input_size=(8, 128, 128))\n",
    "summary(agent.grasp_critic2, input_size=(8, 128, 128))"
   ]
  },
  {
   "cell_type": "code",
   "execution_count": 9,
   "metadata": {},
   "outputs": [
    {
     "name": "stdout",
     "output_type": "stream",
     "text": [
      "----------------------------------------------------------------\n",
      "        Layer (type)               Output Shape         Param #\n",
      "================================================================\n",
      "            Conv2d-1            [-1, 8, 64, 64]             440\n",
      "       BatchNorm2d-2            [-1, 8, 64, 64]              16\n",
      "              ReLU-3            [-1, 8, 64, 64]               0\n",
      "            Conv2d-4           [-1, 16, 32, 32]           1,168\n",
      "       BatchNorm2d-5           [-1, 16, 32, 32]              32\n",
      "              ReLU-6           [-1, 16, 32, 32]               0\n",
      "            Conv2d-7           [-1, 32, 16, 16]           4,640\n",
      "       BatchNorm2d-8           [-1, 32, 16, 16]              64\n",
      "              ReLU-9           [-1, 32, 16, 16]               0\n",
      "           Conv2d-10             [-1, 64, 8, 8]          18,496\n",
      "      BatchNorm2d-11             [-1, 64, 8, 8]             128\n",
      "             ReLU-12             [-1, 64, 8, 8]               0\n",
      "           Conv2d-13            [-1, 128, 4, 4]          73,856\n",
      "      BatchNorm2d-14            [-1, 128, 4, 4]             256\n",
      "             ReLU-15            [-1, 128, 4, 4]               0\n",
      "           Conv2d-16            [-1, 256, 2, 2]         295,168\n",
      "      BatchNorm2d-17            [-1, 256, 2, 2]             512\n",
      "             ReLU-18            [-1, 256, 2, 2]               0\n",
      "           Conv2d-19            [-1, 512, 1, 1]       1,180,160\n",
      "      BatchNorm2d-20            [-1, 512, 1, 1]           1,024\n",
      "             ReLU-21            [-1, 512, 1, 1]               0\n",
      "          Flatten-22                  [-1, 512]               0\n",
      "           Linear-23                  [-1, 256]         131,328\n",
      "      BatchNorm1d-24                  [-1, 256]             512\n",
      "             ReLU-25                  [-1, 256]               0\n",
      "           Linear-26                  [-1, 256]          65,792\n",
      "      BatchNorm1d-27                  [-1, 256]             512\n",
      "             ReLU-28                  [-1, 256]               0\n",
      "           Linear-29                    [-1, 1]             257\n",
      "================================================================\n",
      "Total params: 1,774,361\n",
      "Trainable params: 1,774,361\n",
      "Non-trainable params: 0\n",
      "----------------------------------------------------------------\n",
      "Input size (MB): 0.38\n",
      "Forward/backward pass size (MB): 1.50\n",
      "Params size (MB): 6.77\n",
      "Estimated Total Size (MB): 8.65\n",
      "----------------------------------------------------------------\n",
      "----------------------------------------------------------------\n",
      "        Layer (type)               Output Shape         Param #\n",
      "================================================================\n",
      "            Conv2d-1            [-1, 8, 64, 64]             440\n",
      "       BatchNorm2d-2            [-1, 8, 64, 64]              16\n",
      "              ReLU-3            [-1, 8, 64, 64]               0\n",
      "            Conv2d-4           [-1, 16, 32, 32]           1,168\n",
      "       BatchNorm2d-5           [-1, 16, 32, 32]              32\n",
      "              ReLU-6           [-1, 16, 32, 32]               0\n",
      "            Conv2d-7           [-1, 32, 16, 16]           4,640\n",
      "       BatchNorm2d-8           [-1, 32, 16, 16]              64\n",
      "              ReLU-9           [-1, 32, 16, 16]               0\n",
      "           Conv2d-10             [-1, 64, 8, 8]          18,496\n",
      "      BatchNorm2d-11             [-1, 64, 8, 8]             128\n",
      "             ReLU-12             [-1, 64, 8, 8]               0\n",
      "           Conv2d-13            [-1, 128, 4, 4]          73,856\n",
      "      BatchNorm2d-14            [-1, 128, 4, 4]             256\n",
      "             ReLU-15            [-1, 128, 4, 4]               0\n",
      "           Conv2d-16            [-1, 256, 2, 2]         295,168\n",
      "      BatchNorm2d-17            [-1, 256, 2, 2]             512\n",
      "             ReLU-18            [-1, 256, 2, 2]               0\n",
      "           Conv2d-19            [-1, 512, 1, 1]       1,180,160\n",
      "      BatchNorm2d-20            [-1, 512, 1, 1]           1,024\n",
      "             ReLU-21            [-1, 512, 1, 1]               0\n",
      "          Flatten-22                  [-1, 512]               0\n",
      "           Linear-23                  [-1, 256]         131,328\n",
      "      BatchNorm1d-24                  [-1, 256]             512\n",
      "             ReLU-25                  [-1, 256]               0\n",
      "           Linear-26                  [-1, 256]          65,792\n",
      "      BatchNorm1d-27                  [-1, 256]             512\n",
      "             ReLU-28                  [-1, 256]               0\n",
      "           Linear-29                    [-1, 1]             257\n",
      "================================================================\n",
      "Total params: 1,774,361\n",
      "Trainable params: 1,774,361\n",
      "Non-trainable params: 0\n",
      "----------------------------------------------------------------\n",
      "Input size (MB): 0.38\n",
      "Forward/backward pass size (MB): 1.50\n",
      "Params size (MB): 6.77\n",
      "Estimated Total Size (MB): 8.65\n",
      "----------------------------------------------------------------\n"
     ]
    }
   ],
   "source": [
    "summary(agent.push_critic1, input_size=(6, 128, 128))\n",
    "summary(agent.push_critic2, input_size=(6, 128, 128))"
   ]
  },
  {
   "cell_type": "markdown",
   "metadata": {},
   "source": [
    "# Gather Demo Experience"
   ]
  },
  {
   "cell_type": "code",
   "execution_count": 10,
   "metadata": {},
   "outputs": [],
   "source": [
    "# agent.gather_guidance_experience(max_episode = 15)"
   ]
  },
  {
   "cell_type": "markdown",
   "metadata": {},
   "source": [
    "# Get Train and Test Loader"
   ]
  },
  {
   "cell_type": "code",
   "execution_count": 11,
   "metadata": {},
   "outputs": [],
   "source": [
    "agent.buffer_replay.load_buffer()\n",
    "\n",
    "grasp_exp = agent.buffer_replay.get_experience_by_action_type(0)\n",
    "push_exp  = agent.buffer_replay.get_experience_by_action_type(1)\n",
    "\n",
    "grasp_train_loader, grasp_test_loader = agent.get_train_test_dataloader(grasp_exp, is_grasp = True)\n",
    "push_train_loader, push_test_loader   = agent.get_train_test_dataloader(push_exp, is_grasp = False)"
   ]
  },
  {
   "cell_type": "markdown",
   "metadata": {},
   "source": [
    "# Grasp System Behaviour Clone"
   ]
  },
  {
   "cell_type": "code",
   "execution_count": 13,
   "metadata": {},
   "outputs": [
    {
     "name": "stdout",
     "output_type": "stream",
     "text": [
      "Epoch 1/100, Critic1 Loss: 0.008735, Critic2 Loss: 0.009715, Actor Loss: 0.000305\n",
      "Epoch 2/100, Critic1 Loss: 0.005548, Critic2 Loss: 0.006517, Actor Loss: 0.000190\n",
      "Epoch 3/100, Critic1 Loss: 0.004416, Critic2 Loss: 0.004712, Actor Loss: 0.000197\n",
      "Epoch 4/100, Critic1 Loss: 0.003326, Critic2 Loss: 0.003687, Actor Loss: 0.000135\n",
      "Epoch 5/100, Critic1 Loss: 0.002455, Critic2 Loss: 0.002761, Actor Loss: 0.000127\n",
      "Epoch 6/100, Critic1 Loss: 0.002270, Critic2 Loss: 0.002708, Actor Loss: 0.000103\n",
      "Epoch 7/100, Critic1 Loss: 0.002216, Critic2 Loss: 0.002314, Actor Loss: 0.000103\n",
      "Epoch 8/100, Critic1 Loss: 0.002556, Critic2 Loss: 0.002608, Actor Loss: 0.000088\n",
      "Epoch 9/100, Critic1 Loss: 0.002095, Critic2 Loss: 0.002202, Actor Loss: 0.000079\n",
      "Epoch 10/100, Critic1 Loss: 0.002146, Critic2 Loss: 0.002396, Actor Loss: 0.000089\n",
      "Epoch 11/100, Critic1 Loss: 0.002189, Critic2 Loss: 0.002266, Actor Loss: 0.000076\n",
      "Epoch 12/100, Critic1 Loss: 0.002115, Critic2 Loss: 0.002057, Actor Loss: 0.000092\n",
      "Epoch 13/100, Critic1 Loss: 0.002306, Critic2 Loss: 0.002253, Actor Loss: 0.000079\n",
      "Epoch 14/100, Critic1 Loss: 0.002398, Critic2 Loss: 0.002270, Actor Loss: 0.000063\n",
      "Epoch 15/100, Critic1 Loss: 0.002153, Critic2 Loss: 0.002297, Actor Loss: 0.000065\n",
      "Epoch 16/100, Critic1 Loss: 0.002073, Critic2 Loss: 0.001945, Actor Loss: 0.000067\n",
      "Epoch 17/100, Critic1 Loss: 0.001954, Critic2 Loss: 0.002112, Actor Loss: 0.000063\n",
      "Epoch 18/100, Critic1 Loss: 0.001812, Critic2 Loss: 0.002015, Actor Loss: 0.000064\n",
      "Epoch 19/100, Critic1 Loss: 0.001951, Critic2 Loss: 0.001720, Actor Loss: 0.000064\n",
      "Epoch 20/100, Critic1 Loss: 0.001914, Critic2 Loss: 0.002008, Actor Loss: 0.000065\n",
      "Epoch 21/100, Critic1 Loss: 0.001885, Critic2 Loss: 0.001814, Actor Loss: 0.000055\n",
      "Epoch 22/100, Critic1 Loss: 0.002055, Critic2 Loss: 0.001996, Actor Loss: 0.000061\n",
      "Epoch 23/100, Critic1 Loss: 0.001795, Critic2 Loss: 0.002033, Actor Loss: 0.000074\n",
      "Epoch 24/100, Critic1 Loss: 0.002173, Critic2 Loss: 0.002026, Actor Loss: 0.000070\n",
      "Epoch 25/100, Critic1 Loss: 0.001786, Critic2 Loss: 0.001913, Actor Loss: 0.000066\n",
      "Epoch 26/100, Critic1 Loss: 0.002138, Critic2 Loss: 0.002127, Actor Loss: 0.000066\n",
      "Epoch 27/100, Critic1 Loss: 0.002004, Critic2 Loss: 0.002010, Actor Loss: 0.000041\n",
      "Epoch 28/100, Critic1 Loss: 0.002001, Critic2 Loss: 0.001882, Actor Loss: 0.000053\n",
      "Epoch 29/100, Critic1 Loss: 0.001889, Critic2 Loss: 0.001874, Actor Loss: 0.000057\n",
      "Epoch 30/100, Critic1 Loss: 0.001679, Critic2 Loss: 0.001830, Actor Loss: 0.000049\n",
      "Epoch 31/100, Critic1 Loss: 0.001788, Critic2 Loss: 0.001773, Actor Loss: 0.000061\n",
      "Epoch 32/100, Critic1 Loss: 0.001810, Critic2 Loss: 0.001928, Actor Loss: 0.000050\n",
      "Epoch 33/100, Critic1 Loss: 0.001698, Critic2 Loss: 0.001706, Actor Loss: 0.000048\n",
      "Epoch 34/100, Critic1 Loss: 0.001583, Critic2 Loss: 0.001939, Actor Loss: 0.000042\n",
      "Epoch 35/100, Critic1 Loss: 0.001657, Critic2 Loss: 0.001676, Actor Loss: 0.000050\n",
      "Epoch 36/100, Critic1 Loss: 0.001502, Critic2 Loss: 0.001666, Actor Loss: 0.000040\n",
      "Epoch 37/100, Critic1 Loss: 0.001501, Critic2 Loss: 0.001659, Actor Loss: 0.000048\n",
      "Epoch 38/100, Critic1 Loss: 0.001886, Critic2 Loss: 0.001851, Actor Loss: 0.000065\n",
      "Epoch 39/100, Critic1 Loss: 0.001569, Critic2 Loss: 0.001851, Actor Loss: 0.000063\n",
      "Epoch 40/100, Critic1 Loss: 0.001827, Critic2 Loss: 0.001668, Actor Loss: 0.000045\n",
      "Epoch 41/100, Critic1 Loss: 0.001908, Critic2 Loss: 0.001935, Actor Loss: 0.000064\n",
      "Epoch 42/100, Critic1 Loss: 0.001785, Critic2 Loss: 0.001818, Actor Loss: 0.000051\n",
      "Epoch 43/100, Critic1 Loss: 0.001864, Critic2 Loss: 0.002115, Actor Loss: 0.000047\n",
      "Epoch 44/100, Critic1 Loss: 0.001727, Critic2 Loss: 0.001964, Actor Loss: 0.000035\n",
      "Epoch 45/100, Critic1 Loss: 0.002019, Critic2 Loss: 0.001787, Actor Loss: 0.000034\n",
      "Epoch 46/100, Critic1 Loss: 0.001973, Critic2 Loss: 0.001810, Actor Loss: 0.000034\n",
      "Epoch 47/100, Critic1 Loss: 0.001850, Critic2 Loss: 0.001743, Actor Loss: 0.000034\n",
      "Epoch 48/100, Critic1 Loss: 0.001784, Critic2 Loss: 0.002022, Actor Loss: 0.000026\n",
      "Epoch 49/100, Critic1 Loss: 0.001897, Critic2 Loss: 0.002115, Actor Loss: 0.000022\n",
      "Epoch 50/100, Critic1 Loss: 0.001381, Critic2 Loss: 0.001623, Actor Loss: 0.000020\n",
      "Epoch 51/100, Critic1 Loss: 0.002089, Critic2 Loss: 0.001948, Actor Loss: 0.000031\n",
      "Epoch 52/100, Critic1 Loss: 0.001600, Critic2 Loss: 0.001522, Actor Loss: 0.000024\n",
      "Epoch 53/100, Critic1 Loss: 0.001913, Critic2 Loss: 0.001623, Actor Loss: 0.000023\n",
      "Epoch 54/100, Critic1 Loss: 0.001734, Critic2 Loss: 0.001708, Actor Loss: 0.000031\n",
      "Epoch 55/100, Critic1 Loss: 0.001903, Critic2 Loss: 0.001813, Actor Loss: 0.000042\n",
      "Epoch 56/100, Critic1 Loss: 0.001705, Critic2 Loss: 0.001770, Actor Loss: 0.000027\n",
      "Epoch 57/100, Critic1 Loss: 0.001611, Critic2 Loss: 0.001699, Actor Loss: 0.000029\n",
      "Epoch 58/100, Critic1 Loss: 0.001816, Critic2 Loss: 0.001720, Actor Loss: 0.000030\n",
      "Epoch 59/100, Critic1 Loss: 0.001720, Critic2 Loss: 0.001848, Actor Loss: 0.000032\n",
      "Epoch 60/100, Critic1 Loss: 0.001606, Critic2 Loss: 0.001870, Actor Loss: 0.000027\n",
      "Epoch 61/100, Critic1 Loss: 0.001775, Critic2 Loss: 0.001695, Actor Loss: 0.000031\n",
      "Epoch 62/100, Critic1 Loss: 0.001608, Critic2 Loss: 0.001624, Actor Loss: 0.000033\n",
      "Epoch 63/100, Critic1 Loss: 0.001845, Critic2 Loss: 0.001611, Actor Loss: 0.000026\n",
      "Epoch 64/100, Critic1 Loss: 0.001626, Critic2 Loss: 0.001911, Actor Loss: 0.000027\n",
      "Epoch 65/100, Critic1 Loss: 0.001773, Critic2 Loss: 0.001669, Actor Loss: 0.000034\n",
      "Epoch 66/100, Critic1 Loss: 0.001591, Critic2 Loss: 0.001708, Actor Loss: 0.000034\n",
      "Epoch 67/100, Critic1 Loss: 0.001442, Critic2 Loss: 0.001474, Actor Loss: 0.000021\n",
      "Epoch 68/100, Critic1 Loss: 0.001699, Critic2 Loss: 0.001838, Actor Loss: 0.000030\n",
      "Epoch 69/100, Critic1 Loss: 0.001515, Critic2 Loss: 0.001587, Actor Loss: 0.000028\n",
      "Epoch 70/100, Critic1 Loss: 0.001618, Critic2 Loss: 0.001751, Actor Loss: 0.000021\n",
      "Epoch 71/100, Critic1 Loss: 0.001701, Critic2 Loss: 0.001896, Actor Loss: 0.000025\n",
      "Epoch 72/100, Critic1 Loss: 0.001655, Critic2 Loss: 0.001577, Actor Loss: 0.000017\n",
      "Epoch 73/100, Critic1 Loss: 0.001610, Critic2 Loss: 0.001854, Actor Loss: 0.000030\n",
      "Epoch 74/100, Critic1 Loss: 0.001631, Critic2 Loss: 0.001547, Actor Loss: 0.000018\n",
      "Epoch 75/100, Critic1 Loss: 0.001593, Critic2 Loss: 0.001668, Actor Loss: 0.000025\n",
      "Epoch 76/100, Critic1 Loss: 0.001570, Critic2 Loss: 0.001549, Actor Loss: 0.000027\n",
      "Epoch 77/100, Critic1 Loss: 0.001613, Critic2 Loss: 0.001423, Actor Loss: 0.000018\n",
      "Epoch 78/100, Critic1 Loss: 0.001575, Critic2 Loss: 0.001743, Actor Loss: 0.000013\n",
      "Epoch 79/100, Critic1 Loss: 0.001835, Critic2 Loss: 0.001759, Actor Loss: 0.000020\n",
      "Epoch 80/100, Critic1 Loss: 0.001676, Critic2 Loss: 0.001813, Actor Loss: 0.000019\n",
      "Epoch 81/100, Critic1 Loss: 0.001705, Critic2 Loss: 0.001523, Actor Loss: 0.000018\n",
      "Epoch 82/100, Critic1 Loss: 0.001304, Critic2 Loss: 0.001594, Actor Loss: 0.000018\n",
      "Epoch 83/100, Critic1 Loss: 0.001727, Critic2 Loss: 0.001864, Actor Loss: 0.000021\n",
      "Epoch 84/100, Critic1 Loss: 0.001504, Critic2 Loss: 0.001725, Actor Loss: 0.000055\n",
      "Epoch 85/100, Critic1 Loss: 0.001798, Critic2 Loss: 0.001637, Actor Loss: 0.000029\n",
      "Epoch 86/100, Critic1 Loss: 0.001672, Critic2 Loss: 0.001765, Actor Loss: 0.000028\n",
      "Epoch 87/100, Critic1 Loss: 0.001313, Critic2 Loss: 0.001584, Actor Loss: 0.000031\n",
      "Epoch 88/100, Critic1 Loss: 0.001661, Critic2 Loss: 0.001614, Actor Loss: 0.000017\n",
      "Epoch 89/100, Critic1 Loss: 0.001482, Critic2 Loss: 0.001463, Actor Loss: 0.000014\n",
      "Epoch 90/100, Critic1 Loss: 0.001636, Critic2 Loss: 0.001631, Actor Loss: 0.000013\n",
      "Epoch 91/100, Critic1 Loss: 0.001499, Critic2 Loss: 0.001715, Actor Loss: 0.000013\n",
      "Epoch 92/100, Critic1 Loss: 0.001569, Critic2 Loss: 0.001714, Actor Loss: 0.000014\n",
      "Epoch 93/100, Critic1 Loss: 0.001705, Critic2 Loss: 0.001929, Actor Loss: 0.000014\n",
      "Epoch 94/100, Critic1 Loss: 0.001762, Critic2 Loss: 0.001809, Actor Loss: 0.000012\n",
      "Epoch 95/100, Critic1 Loss: 0.001628, Critic2 Loss: 0.001444, Actor Loss: 0.000014\n",
      "Epoch 96/100, Critic1 Loss: 0.001530, Critic2 Loss: 0.001626, Actor Loss: 0.000009\n",
      "Epoch 97/100, Critic1 Loss: 0.001484, Critic2 Loss: 0.001397, Actor Loss: 0.000010\n",
      "Epoch 98/100, Critic1 Loss: 0.001399, Critic2 Loss: 0.001551, Actor Loss: 0.000012\n",
      "Epoch 99/100, Critic1 Loss: 0.001616, Critic2 Loss: 0.001439, Actor Loss: 0.000016\n",
      "Epoch 100/100, Critic1 Loss: 0.001568, Critic2 Loss: 0.001808, Actor Loss: 0.000011\n"
     ]
    }
   ],
   "source": [
    "# agent.behaviour_cloning(grasp_train_loader, agent.grasp_critic1, agent.grasp_critic2, agent.grasp_actor, num_epochs = 1000)\n",
    "agent.behaviour_cloning(push_train_loader, agent.push_critic1, agent.push_critic2, agent.push_actor, num_epochs = 100, is_grasp = False)"
   ]
  },
  {
   "cell_type": "markdown",
   "metadata": {},
   "source": [
    "# Testing raw data and preprocess input"
   ]
  },
  {
   "cell_type": "code",
   "execution_count": null,
   "metadata": {},
   "outputs": [],
   "source": [
    "color_img, depth_img = agent.env.get_rgbd_data()"
   ]
  },
  {
   "cell_type": "code",
   "execution_count": null,
   "metadata": {},
   "outputs": [],
   "source": [
    "in_color_img, in_depth_img = agent.preprocess_input(color_img, depth_img)"
   ]
  },
  {
   "cell_type": "code",
   "execution_count": null,
   "metadata": {},
   "outputs": [],
   "source": [
    "print(in_color_img.shape)\n",
    "print(in_depth_img.shape)"
   ]
  },
  {
   "cell_type": "code",
   "execution_count": null,
   "metadata": {},
   "outputs": [],
   "source": [
    "fig, ax = plt.subplots(1, 2)\n",
    "ax[0].imshow(in_depth_img.permute((1,2,0)))\n",
    "ax[1].imshow(in_color_img.permute((1,2,0)))\n",
    "plt.show()"
   ]
  },
  {
   "cell_type": "markdown",
   "metadata": {},
   "source": [
    "# Test interact"
   ]
  },
  {
   "cell_type": "code",
   "execution_count": null,
   "metadata": {},
   "outputs": [],
   "source": [
    "agent.interact()"
   ]
  }
 ],
 "metadata": {
  "kernelspec": {
   "display_name": "pytorch_env",
   "language": "python",
   "name": "python3"
  },
  "language_info": {
   "codemirror_mode": {
    "name": "ipython",
    "version": 3
   },
   "file_extension": ".py",
   "mimetype": "text/x-python",
   "name": "python",
   "nbconvert_exporter": "python",
   "pygments_lexer": "ipython3",
   "version": "3.9.19"
  }
 },
 "nbformat": 4,
 "nbformat_minor": 2
}
