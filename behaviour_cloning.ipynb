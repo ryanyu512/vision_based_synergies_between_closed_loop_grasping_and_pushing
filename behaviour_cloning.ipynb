{
 "cells": [
  {
   "cell_type": "markdown",
   "metadata": {},
   "source": [
    "# Import Libraries"
   ]
  },
  {
   "cell_type": "code",
   "execution_count": 1,
   "metadata": {},
   "outputs": [],
   "source": [
    "import copy\n",
    "import utils\n",
    "import torch\n",
    "import constants\n",
    "import numpy as np\n",
    "import torch.nn as nn\n",
    "import torch.optim as optim\n",
    "import matplotlib.pyplot as plt\n",
    "from torch.distributions import Normal, Categorical\n",
    "\n",
    "from env import Env\n",
    "from agent import Agent\n",
    "from torchsummary import summary"
   ]
  },
  {
   "cell_type": "markdown",
   "metadata": {},
   "source": [
    "# Initialise Environment"
   ]
  },
  {
   "cell_type": "code",
   "execution_count": 2,
   "metadata": {},
   "outputs": [
    {
     "name": "stdout",
     "output_type": "stream",
     "text": [
      "workspace space: \n",
      "[[-0.285  0.065]\n",
      " [ 0.335  0.685]\n",
      " [ 0.     0.4  ]]\n",
      "[SUCCESS] restart environment\n",
      "[SUCCESS] setup rgbd camera\n",
      "[SUCCESS] load obj paths\n",
      "[SUCCESS] randomly choose objects\n",
      "[SUCCESS] randomly choose object colors\n",
      "object 0: shape_0, pose: [-0.24822803135199445, 0.3719578451185758, 0.15, 6.090836346739635, 2.4899936348068263, 5.1345219872938666]\n",
      "object 1: shape_1, pose: [0.04558707025022382, 0.5872244114392716, 0.15, 2.7644911054334047, 1.3173503291413569, 1.2894433011775677]\n",
      "object 2: shape_2, pose: [-0.18157718713252155, 0.5972735671237414, 0.15, 0.9907520001958396, 1.1175286281142076, 2.0449444465153124]\n",
      "object 3: shape_3, pose: [-0.21187198710255697, 0.5356147315337859, 0.15, 2.6491133541735037, 4.5544667802091165, 0.333371665051251]\n",
      "object 4: shape_4, pose: [-0.09333488760050784, 0.45504861555994575, 0.15, 4.448664217774518, 4.201640634165735, 2.9672036896294025]\n",
      "object 5: shape_5, pose: [-0.21781150742238958, 0.6661231860322663, 0.15, 0.8805160363494671, 1.9552983365503351, 3.941268130800429]\n",
      "object 6: shape_6, pose: [-0.1478094617794396, 0.6465836952218673, 0.15, 5.428312417107988, 3.5599009424991706, 0.5049196556823813]\n",
      "object 7: shape_7, pose: [-0.28382403296024517, 0.39538712473333165, 0.15, 5.968489436279449, 1.1932349831004412, 2.0509968801965766]\n",
      "object 8: shape_8, pose: [-0.05965555962653203, 0.6247252551259809, 0.15, 5.559212120633102, 3.8673902003893104, 4.639254021814055]\n",
      "object 9: shape_9, pose: [-0.19481756339642753, 0.5324645484962701, 0.15, 0.36460525299860036, 0.6975609413111531, 1.4901620612738504]\n",
      "[SUCCESS] reset obj 3 to working space\n",
      "[SUCCESS] add objects to simulation\n"
     ]
    }
   ],
   "source": [
    "#initialise environment\n",
    "min_x, max_x =  -0.110 - 0.175,   -0.110 + 0.175\n",
    "min_y, max_y =   0.510 - 0.175,    0.510 + 0.175\n",
    "min_z, max_z =               0,              0.4 \n",
    "\n",
    "workspace_lim = np.asarray([[min_x, max_x], \n",
    "                            [min_y, max_y],\n",
    "                            [min_z, max_z]])\n",
    "\n",
    "print(f\"workspace space: \\n{workspace_lim}\")\n",
    "\n",
    "obj_dir = 'objects/blocks/'\n",
    "N_obj   = 10\n",
    "\n",
    "env = Env(obj_dir, N_obj, workspace_lim)"
   ]
  },
  {
   "cell_type": "markdown",
   "metadata": {},
   "source": [
    "# Initialise Agent"
   ]
  },
  {
   "cell_type": "code",
   "execution_count": 3,
   "metadata": {},
   "outputs": [
    {
     "name": "stdout",
     "output_type": "stream",
     "text": [
      "device: cpu\n",
      "[SUCCESS] initialise environment\n",
      "[SUCCESS] initialise networks\n",
      "[SUCCESS] initialise memory buffer\n"
     ]
    },
    {
     "name": "stderr",
     "output_type": "stream",
     "text": [
      "/home/ryan/anaconda3/envs/pytorch_env/lib/python3.9/site-packages/torch/cuda/__init__.py:118: UserWarning: CUDA initialization: CUDA unknown error - this may be due to an incorrectly set up environment, e.g. changing env variable CUDA_VISIBLE_DEVICES after program start. Setting the available devices to be zero. (Triggered internally at /opt/conda/conda-bld/pytorch_1716905969824/work/c10/cuda/CUDAFunctions.cpp:108.)\n",
      "  return torch._C._cuda_getDeviceCount() > 0\n"
     ]
    }
   ],
   "source": [
    "agent = Agent(env, max_memory_size = 100)"
   ]
  },
  {
   "cell_type": "markdown",
   "metadata": {},
   "source": [
    "# Gather Demonstration Experience"
   ]
  },
  {
   "cell_type": "code",
   "execution_count": 4,
   "metadata": {},
   "outputs": [],
   "source": [
    "# agent.gather_guidance_experience(max_episode = 15)"
   ]
  },
  {
   "cell_type": "markdown",
   "metadata": {},
   "source": [
    "# Get Train and Test Loader"
   ]
  },
  {
   "cell_type": "code",
   "execution_count": 5,
   "metadata": {},
   "outputs": [
    {
     "name": "stdout",
     "output_type": "stream",
     "text": [
      "N_grasp_exp: 75\n",
      "N_push_exp: 25\n",
      "N_HLD_exp: 14\n"
     ]
    }
   ],
   "source": [
    "agent.buffer_replay.load_buffer()\n",
    "\n",
    "grasp_exp = agent.buffer_replay.get_experience_by_action_type(constants.GRASP)\n",
    "push_exp  = agent.buffer_replay.get_experience_by_action_type(constants.PUSH)\n",
    "hld_exp   = agent.buffer_replay.get_experience_by_home_type()\n",
    "\n",
    "print(f\"N_grasp_exp: {len(grasp_exp[0])}\")\n",
    "print(f\"N_push_exp: {len(push_exp[0])}\")\n",
    "print(f\"N_HLD_exp: {len(hld_exp[0])}\")\n",
    "\n",
    "hld_train_loader, hld_test_loader     = agent.get_train_test_dataloader_hld_net(hld_exp)\n",
    "grasp_train_loader, grasp_test_loader = agent.get_train_test_dataloader(grasp_exp, is_grasp = True)\n",
    "push_train_loader, push_test_loader   = agent.get_train_test_dataloader( push_exp, is_grasp = False)"
   ]
  },
  {
   "cell_type": "markdown",
   "metadata": {},
   "source": [
    "# HLD-net clone"
   ]
  },
  {
   "cell_type": "code",
   "execution_count": 6,
   "metadata": {},
   "outputs": [
    {
     "name": "stdout",
     "output_type": "stream",
     "text": [
      "(14,) (14, 128, 128) (14,)\n",
      "0.0\n"
     ]
    },
    {
     "data": {
      "text/plain": [
       "<matplotlib.image.AxesImage at 0x7fb10006dd30>"
      ]
     },
     "execution_count": 6,
     "metadata": {},
     "output_type": "execute_result"
    },
    {
     "data": {
      "image/png": "[encoded data removed]",
      "text/plain": [
       "<Figure size 640x480 with 1 Axes>"
      ]
     },
     "metadata": {},
     "output_type": "display_data"
    }
   ],
   "source": [
    "print(hld_exp[0].shape, hld_exp[1].shape, hld_exp[2].shape)\n",
    "index = 11\n",
    "print(hld_exp[2][index])\n",
    "plt.imshow(hld_exp[1][index])"
   ]
  },
  {
   "cell_type": "code",
   "execution_count": 10,
   "metadata": {},
   "outputs": [
    {
     "name": "stdout",
     "output_type": "stream",
     "text": [
      "Epoch 1/50, hld Loss: 0.028478\n",
      "Epoch 2/50, hld Loss: 0.028478\n",
      "Epoch 3/50, hld Loss: 0.028478\n",
      "Epoch 4/50, hld Loss: 0.028478\n",
      "Epoch 5/50, hld Loss: 0.028478\n",
      "Epoch 6/50, hld Loss: 0.028478\n",
      "Epoch 7/50, hld Loss: 0.028478\n",
      "Epoch 8/50, hld Loss: 0.028478\n",
      "Epoch 9/50, hld Loss: 0.028478\n",
      "Epoch 10/50, hld Loss: 0.028478\n",
      "Epoch 11/50, hld Loss: 0.028478\n",
      "Epoch 12/50, hld Loss: 0.028478\n",
      "Epoch 13/50, hld Loss: 0.028478\n",
      "Epoch 14/50, hld Loss: 0.028478\n",
      "Epoch 15/50, hld Loss: 0.028478\n",
      "Epoch 16/50, hld Loss: 0.028478\n",
      "Epoch 17/50, hld Loss: 0.028478\n",
      "Epoch 18/50, hld Loss: 0.028478\n",
      "Epoch 19/50, hld Loss: 0.028478\n",
      "Epoch 20/50, hld Loss: 0.028478\n",
      "Epoch 21/50, hld Loss: 0.028478\n",
      "Epoch 22/50, hld Loss: 0.028478\n",
      "Epoch 23/50, hld Loss: 0.028478\n",
      "Epoch 24/50, hld Loss: 0.028478\n",
      "Epoch 25/50, hld Loss: 0.028478\n",
      "Epoch 26/50, hld Loss: 0.028478\n",
      "Epoch 27/50, hld Loss: 0.028478\n",
      "Epoch 28/50, hld Loss: 0.028478\n",
      "Epoch 29/50, hld Loss: 0.028478\n",
      "Epoch 30/50, hld Loss: 0.028478\n",
      "Epoch 31/50, hld Loss: 0.028478\n",
      "Epoch 32/50, hld Loss: 0.028478\n",
      "Epoch 33/50, hld Loss: 0.028478\n",
      "Epoch 34/50, hld Loss: 0.028478\n",
      "Epoch 35/50, hld Loss: 0.028478\n",
      "Epoch 36/50, hld Loss: 0.028478\n",
      "Epoch 37/50, hld Loss: 0.028478\n",
      "Epoch 38/50, hld Loss: 0.028478\n",
      "Epoch 39/50, hld Loss: 0.028478\n",
      "Epoch 40/50, hld Loss: 0.028478\n",
      "Epoch 41/50, hld Loss: 0.028478\n",
      "Epoch 42/50, hld Loss: 0.028478\n",
      "Epoch 43/50, hld Loss: 0.028478\n",
      "Epoch 44/50, hld Loss: 0.028478\n",
      "Epoch 45/50, hld Loss: 0.028478\n",
      "Epoch 46/50, hld Loss: 0.028478\n",
      "Epoch 47/50, hld Loss: 0.028478\n",
      "Epoch 48/50, hld Loss: 0.028478\n",
      "Epoch 49/50, hld Loss: 0.028478\n",
      "Epoch 50/50, hld Loss: 0.028478\n"
     ]
    }
   ],
   "source": [
    "agent.behaviour_cloning_hld(hld_train_loader, agent.hld_net, num_epochs = 50)"
   ]
  },
  {
   "cell_type": "code",
   "execution_count": null,
   "metadata": {},
   "outputs": [],
   "source": [
    "for state, target_action_type in hld_train_loader:\n",
    "\n",
    "    target_action_type = target_action_type.to(agent.device)\n",
    "    target_action_type = torch.nn.functional.one_hot(target_action_type.long(), \n",
    "                                                     num_classes = agent.N_gripper_action).float()\n",
    "\n",
    "\n",
    "    action_type = agent.hld_net(state)\n",
    "\n",
    "    print(\"===target===\")\n",
    "    print(target_action_type)\n",
    "    print(\"===estimation===\")\n",
    "    print(action_type)"
   ]
  },
  {
   "cell_type": "markdown",
   "metadata": {},
   "source": [
    "# Push Clone"
   ]
  },
  {
   "cell_type": "code",
   "execution_count": null,
   "metadata": {},
   "outputs": [],
   "source": [
    "agent.behaviour_cloning(push_train_loader, agent.push_critic1, agent.push_critic2, agent.push_actor, num_epochs = 10, is_grasp = False)"
   ]
  },
  {
   "cell_type": "markdown",
   "metadata": {},
   "source": [
    "# Grasp Clone"
   ]
  },
  {
   "cell_type": "code",
   "execution_count": null,
   "metadata": {},
   "outputs": [],
   "source": [
    "agent.behaviour_cloning(grasp_train_loader, agent.grasp_critic1, agent.grasp_critic2, agent.grasp_actor, num_epochs = 10, is_grasp = True)"
   ]
  },
  {
   "cell_type": "code",
   "execution_count": null,
   "metadata": {},
   "outputs": [],
   "source": []
  }
 ],
 "metadata": {
  "kernelspec": {
   "display_name": "pytorch_env",
   "language": "python",
   "name": "python3"
  },
  "language_info": {
   "codemirror_mode": {
    "name": "ipython",
    "version": 3
   },
   "file_extension": ".py",
   "mimetype": "text/x-python",
   "name": "python",
   "nbconvert_exporter": "python",
   "pygments_lexer": "ipython3",
   "version": "3.9.19"
  }
 },
 "nbformat": 4,
 "nbformat_minor": 2
}
