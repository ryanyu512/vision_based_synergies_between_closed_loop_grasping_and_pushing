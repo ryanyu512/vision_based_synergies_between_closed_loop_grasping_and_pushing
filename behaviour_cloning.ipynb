{
 "cells": [
  {
   "cell_type": "markdown",
   "metadata": {},
   "source": [
    "# Import Libraries"
   ]
  },
  {
   "cell_type": "code",
   "execution_count": null,
   "metadata": {},
   "outputs": [],
   "source": [
    "import copy\n",
    "import utils\n",
    "import torch\n",
    "import constants\n",
    "import numpy as np\n",
    "import torch.nn as nn\n",
    "import torch.optim as optim\n",
    "import matplotlib.pyplot as plt\n",
    "from torch.distributions import Normal, Categorical\n",
    "\n",
    "from env import Env\n",
    "from agent import Agent\n",
    "from torchsummary import summary"
   ]
  },
  {
   "cell_type": "markdown",
   "metadata": {},
   "source": [
    "# Initialise Environment"
   ]
  },
  {
   "cell_type": "code",
   "execution_count": null,
   "metadata": {},
   "outputs": [],
   "source": [
    "#initialise environment\n",
    "min_x, max_x =  -0.110 - 0.175,   -0.110 + 0.175\n",
    "min_y, max_y =   0.560 - 0.150,    0.560 + 0.150\n",
    "min_z, max_z =               0,              0.4 \n",
    "\n",
    "workspace_lim = np.asarray([[min_x, max_x], \n",
    "                            [min_y, max_y],\n",
    "                            [min_z, max_z]])\n",
    "\n",
    "print(f\"workspace space: \\n{workspace_lim}\")\n",
    "\n",
    "obj_dir = 'objects/blocks/'\n",
    "N_obj   = 10\n",
    "\n",
    "env = Env(obj_dir, N_obj, workspace_lim)"
   ]
  },
  {
   "cell_type": "markdown",
   "metadata": {},
   "source": [
    "# Initialise Agent"
   ]
  },
  {
   "cell_type": "code",
   "execution_count": null,
   "metadata": {},
   "outputs": [],
   "source": [
    "agent = Agent(env, max_memory_size = 100, is_debug = True, N_batch = 128, N_batch_hld = 32, lr = 1e-4, hld_lr = 1e-6)"
   ]
  },
  {
   "cell_type": "markdown",
   "metadata": {},
   "source": [
    "# Gather Demonstration Experience"
   ]
  },
  {
   "cell_type": "code",
   "execution_count": null,
   "metadata": {},
   "outputs": [],
   "source": [
    "agent.gather_guidance_experience()"
   ]
  },
  {
   "cell_type": "markdown",
   "metadata": {},
   "source": [
    "# Get Train and Test Loader"
   ]
  },
  {
   "cell_type": "code",
   "execution_count": null,
   "metadata": {},
   "outputs": [],
   "source": [
    "agent.buffer_replay.load_buffer()\n",
    "\n",
    "grasp_exp = agent.buffer_replay.get_experience_by_action_type(constants.GRASP)\n",
    "push_exp  = agent.buffer_replay.get_experience_by_action_type(constants.PUSH)\n",
    "hld_exp   = agent.buffer_replay_hld.get_experience()\n",
    "\n",
    "print(f\"N_grasp_exp: {len(grasp_exp[0])}\")\n",
    "print(f\"N_push_exp: {len(push_exp[0])}\")\n",
    "print(f\"N_HLD_exp: {len(hld_exp[0])}\")\n",
    "\n",
    "hld_train_loader, hld_test_loader     = agent.get_train_test_dataloader_hld_net(hld_exp, train_ratio=0.9)\n",
    "grasp_train_loader, grasp_test_loader = agent.get_train_test_dataloader(grasp_exp, is_grasp = True, train_ratio=0.9)\n",
    "push_train_loader, push_test_loader   = agent.get_train_test_dataloader( push_exp, is_grasp = False, train_ratio=0.9)"
   ]
  },
  {
   "cell_type": "markdown",
   "metadata": {},
   "source": [
    "# HLD-net clone"
   ]
  },
  {
   "cell_type": "code",
   "execution_count": null,
   "metadata": {},
   "outputs": [],
   "source": [
    "# # print(hld_exp[0].shape, hld_exp[1].shape, hld_exp[2].shape, hld_exp[3].shape)\n",
    "# index = 1001\n",
    "# # print(hld_exp[2][index])\n",
    "# plt.imshow(grasp_exp[2][index])\n",
    "# # print(hld_exp[1][5])"
   ]
  },
  {
   "cell_type": "code",
   "execution_count": null,
   "metadata": {},
   "outputs": [],
   "source": [
    "# agent.hld_net.load_checkpoint()\n",
    "agent.behaviour_cloning_hld(hld_train_loader, hld_test_loader, agent.hld_net, agent.hld_net_target, num_epochs = 500)"
   ]
  },
  {
   "cell_type": "markdown",
   "metadata": {},
   "source": [
    "# Push Clone"
   ]
  },
  {
   "cell_type": "code",
   "execution_count": null,
   "metadata": {},
   "outputs": [],
   "source": [
    "# # agent.push_critic1.load_checkpoint()\n",
    "# # agent.push_critic2.load_checkpoint()\n",
    "# # agent.push_actor.load_checkpoint()\n",
    "# agent.behaviour_cloning(push_train_loader, push_test_loader, \n",
    "#                         agent.push_critic1, agent.push_critic2, \n",
    "#                         agent.push_critic1_target, agent.push_critic2_target, \n",
    "#                         agent.push_actor, num_epochs = 500, is_grasp = False)"
   ]
  },
  {
   "cell_type": "markdown",
   "metadata": {},
   "source": [
    "# Grasp Clone"
   ]
  },
  {
   "cell_type": "code",
   "execution_count": null,
   "metadata": {},
   "outputs": [],
   "source": [
    "# # agent.grasp_critic1.load_checkpoint()\n",
    "# # agent.grasp_critic2.load_checkpoint()\n",
    "# # agent.grasp_actor.load_checkpoint()\n",
    "# agent.behaviour_cloning(grasp_train_loader, grasp_test_loader, \n",
    "#                         agent.grasp_critic1, agent.grasp_critic2, \n",
    "#                         agent.grasp_critic1_target, agent.grasp_critic2_target, \n",
    "#                         agent.grasp_actor, num_epochs = 500, is_grasp = True)"
   ]
  }
 ],
 "metadata": {
  "kernelspec": {
   "display_name": "pytorch_env",
   "language": "python",
   "name": "python3"
  },
  "language_info": {
   "codemirror_mode": {
    "name": "ipython",
    "version": 3
   },
   "file_extension": ".py",
   "mimetype": "text/x-python",
   "name": "python",
   "nbconvert_exporter": "python",
   "pygments_lexer": "ipython3",
   "version": "3.9.19"
  }
 },
 "nbformat": 4,
 "nbformat_minor": 2
}
