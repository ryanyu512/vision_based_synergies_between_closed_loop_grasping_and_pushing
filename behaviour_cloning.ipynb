{
 "cells": [
  {
   "cell_type": "markdown",
   "metadata": {},
   "source": [
    "# Import Libraries"
   ]
  },
  {
   "cell_type": "code",
   "execution_count": null,
   "metadata": {},
   "outputs": [],
   "source": [
    "import copy\n",
    "import utils\n",
    "import torch\n",
    "import constants\n",
    "import numpy as np\n",
    "import torch.nn as nn\n",
    "import torch.optim as optim\n",
    "import matplotlib.pyplot as plt\n",
    "from torch.distributions import Normal, Categorical\n",
    "\n",
    "from env import Env\n",
    "from agent import Agent\n",
    "from torchsummary import summary"
   ]
  },
  {
   "cell_type": "markdown",
   "metadata": {},
   "source": [
    "# Initialise Environment"
   ]
  },
  {
   "cell_type": "code",
   "execution_count": null,
   "metadata": {},
   "outputs": [],
   "source": [
    "#initialise environment\n",
    "min_x, max_x =  -0.110 - 0.175,   -0.110 + 0.175\n",
    "min_y, max_y =   0.510 - 0.175,    0.510 + 0.175\n",
    "min_z, max_z =               0,              0.4 \n",
    "\n",
    "workspace_lim = np.asarray([[min_x, max_x], \n",
    "                            [min_y, max_y],\n",
    "                            [min_z, max_z]])\n",
    "\n",
    "print(f\"workspace space: \\n{workspace_lim}\")\n",
    "\n",
    "obj_dir = 'objects/blocks/'\n",
    "N_obj   = 10\n",
    "\n",
    "env = Env(obj_dir, N_obj, workspace_lim)"
   ]
  },
  {
   "cell_type": "markdown",
   "metadata": {},
   "source": [
    "# Initialise Agent"
   ]
  },
  {
   "cell_type": "code",
   "execution_count": null,
   "metadata": {},
   "outputs": [],
   "source": [
    "agent = Agent(env, max_memory_size = 100)"
   ]
  },
  {
   "cell_type": "markdown",
   "metadata": {},
   "source": [
    "# Gather Demonstration Experience"
   ]
  },
  {
   "cell_type": "code",
   "execution_count": null,
   "metadata": {},
   "outputs": [],
   "source": [
    "# agent.gather_guidance_experience(max_episode = 15)"
   ]
  },
  {
   "cell_type": "markdown",
   "metadata": {},
   "source": [
    "# Get Train and Test Loader"
   ]
  },
  {
   "cell_type": "code",
   "execution_count": null,
   "metadata": {},
   "outputs": [],
   "source": [
    "agent.buffer_replay.load_buffer()\n",
    "\n",
    "grasp_exp = agent.buffer_replay.get_experience_by_action_type(constants.GRASP)\n",
    "push_exp  = agent.buffer_replay.get_experience_by_action_type(constants.PUSH)\n",
    "hld_exp   = agent.buffer_replay.get_experience_by_home_type()\n",
    "\n",
    "print(f\"N_grasp_exp: {len(grasp_exp[0])}\")\n",
    "print(f\"N_push_exp: {len(push_exp[0])}\")\n",
    "print(f\"N_HLD_exp: {len(hld_exp[0])}\")\n",
    "\n",
    "hld_train_loader, hld_test_loader     = agent.get_train_test_dataloader_hld_net(hld_exp)\n",
    "grasp_train_loader, grasp_test_loader = agent.get_train_test_dataloader(grasp_exp, is_grasp = True)\n",
    "push_train_loader, push_test_loader   = agent.get_train_test_dataloader( push_exp, is_grasp = False)\n",
    "\n",
    "for a,b,c in push_test_loader:\n",
    "    print(\"hi\")"
   ]
  },
  {
   "cell_type": "markdown",
   "metadata": {},
   "source": [
    "# HLD-net clone"
   ]
  },
  {
   "cell_type": "code",
   "execution_count": null,
   "metadata": {},
   "outputs": [],
   "source": [
    "print(hld_exp[0].shape, hld_exp[1].shape, hld_exp[2].shape)\n",
    "index = 11\n",
    "print(hld_exp[2][index])\n",
    "plt.imshow(hld_exp[1][index])"
   ]
  },
  {
   "cell_type": "code",
   "execution_count": null,
   "metadata": {},
   "outputs": [],
   "source": [
    "agent.behaviour_cloning_hld(hld_train_loader, agent.hld_net, num_epochs = 10)\n",
    "agent.behaviour_cloning_eval_hld(hld_test_loader, agent.hld_net)"
   ]
  },
  {
   "cell_type": "markdown",
   "metadata": {},
   "source": [
    "# Push Clone"
   ]
  },
  {
   "cell_type": "code",
   "execution_count": null,
   "metadata": {},
   "outputs": [],
   "source": [
    "agent.behaviour_cloning(push_train_loader, agent.push_critic1, agent.push_critic2, agent.push_actor, num_epochs = 10, is_grasp = False)\n",
    "agent.behaviour_cloning_eval(push_test_loader, agent.push_critic1, agent.push_critic2, agent.push_actor, is_grasp = False)"
   ]
  },
  {
   "cell_type": "markdown",
   "metadata": {},
   "source": [
    "# Grasp Clone"
   ]
  },
  {
   "cell_type": "code",
   "execution_count": null,
   "metadata": {},
   "outputs": [],
   "source": [
    "agent.behaviour_cloning(grasp_train_loader, agent.grasp_critic1, agent.grasp_critic2, agent.grasp_actor, num_epochs = 10, is_grasp = True)\n",
    "agent.behaviour_cloning_eval(grasp_test_loader, agent.grasp_critic1, agent.grasp_critic2, agent.grasp_actor, is_grasp = True)"
   ]
  },
  {
   "cell_type": "code",
   "execution_count": null,
   "metadata": {},
   "outputs": [],
   "source": []
  }
 ],
 "metadata": {
  "kernelspec": {
   "display_name": "pytorch_env",
   "language": "python",
   "name": "python3"
  },
  "language_info": {
   "codemirror_mode": {
    "name": "ipython",
    "version": 3
   },
   "file_extension": ".py",
   "mimetype": "text/x-python",
   "name": "python",
   "nbconvert_exporter": "python",
   "pygments_lexer": "ipython3",
   "version": "3.9.19"
  }
 },
 "nbformat": 4,
 "nbformat_minor": 2
}
