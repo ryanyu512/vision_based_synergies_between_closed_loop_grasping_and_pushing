{
 "cells": [
  {
   "cell_type": "markdown",
   "metadata": {},
   "source": [
    "# Import Libraries"
   ]
  },
  {
   "cell_type": "code",
   "execution_count": null,
   "metadata": {},
   "outputs": [],
   "source": [
    "import copy\n",
    "import utils\n",
    "import torch\n",
    "import constants\n",
    "import numpy as np\n",
    "import torch.nn as nn\n",
    "import torch.optim as optim\n",
    "import matplotlib.pyplot as plt\n",
    "\n",
    "from env import Env\n",
    "from agent import Agent\n",
    "from torchsummary import summary\n",
    "from torch.distributions import Normal, Categorical"
   ]
  },
  {
   "cell_type": "markdown",
   "metadata": {},
   "source": [
    "# Initialise Environment"
   ]
  },
  {
   "cell_type": "code",
   "execution_count": null,
   "metadata": {},
   "outputs": [],
   "source": [
    "#initialise environment\n",
    "min_x, max_x =  -0.110 - 0.150,   -0.110 + 0.150\n",
    "min_y, max_y =   0.560 - 0.125,    0.560 + 0.125\n",
    "min_z, max_z =               0,              0.4 \n",
    "\n",
    "workspace_lim = np.asarray([[min_x, max_x], \n",
    "                            [min_y, max_y],\n",
    "                            [min_z, max_z]])\n",
    "\n",
    "print(f\"workspace space: \\n{workspace_lim}\")\n",
    "\n",
    "obj_dir = 'objects/blocks/'\n",
    "N_obj   = 5\n",
    "\n",
    "env = Env(obj_dir, N_obj, workspace_lim, cluttered_mode= True, is_debug = False)"
   ]
  },
  {
   "cell_type": "markdown",
   "metadata": {},
   "source": [
    "# Initialise Agent"
   ]
  },
  {
   "cell_type": "code",
   "execution_count": null,
   "metadata": {},
   "outputs": [],
   "source": [
    "agent = Agent(env, \n",
    "              max_memory_size = 100000, \n",
    "              max_memory_size_rl = 200000,\n",
    "              max_memory_size_hld = 50000,\n",
    "              is_debug = True, \n",
    "              N_batch = 512, \n",
    "              N_batch_hld = 512, \n",
    "              lr = 1e-4, \n",
    "              hld_lr = 1e-4,\n",
    "              tau = 0.05,\n",
    "              tau_hld = 0.05,\n",
    "              max_action_taken = 50,\n",
    "              max_result_window = 500,\n",
    "              max_result_window_hld = 250,\n",
    "              max_result_window_eval = 100,\n",
    "              max_stage1_episode = 200,\n",
    "              N_grasp_step = 25, #define the maximum step for low-level grasping network\n",
    "              N_push_step = 25, #define the maximum step for low-level pushing network\n",
    "              success_rate_threshold = 0.7,\n",
    "              checkpt_dir_agent=\"/media/ryan/Seagate/research_proj_backup/research_2.0/logs/agent\", \n",
    "              checkpt_dir_models=\"/media/ryan/Seagate/research_proj_backup/research_2.0/logs/models\",\n",
    "              exp_dir_expert=\"/media/ryan/Seagate/research_proj_backup/research_2.0/logs/exp_expert\", \n",
    "              exp_dir_rl=\"/media/ryan/Seagate/research_proj_backup/research_2.0/logs/exp_rl\",\n",
    "              exp_dir_hld=\"/media/ryan/Seagate/research_proj_backup/research_2.0/logs/exp_hld\")"
   ]
  },
  {
   "cell_type": "markdown",
   "metadata": {},
   "source": [
    "# Interact"
   ]
  },
  {
   "cell_type": "code",
   "execution_count": null,
   "metadata": {},
   "outputs": [],
   "source": [
    "# agent.interact(max_episode = 100, \n",
    "#                lla_mode = constants.BC_RL,\n",
    "#                hld_mode = constants.DEMO_MODE,\n",
    "#                is_eval = True)"
   ]
  },
  {
   "cell_type": "code",
   "execution_count": 5,
   "metadata": {},
   "outputs": [],
   "source": [
    "agent.hld_mode = constants.HLD_MODE\n",
    "agent.is_eval  = True\n",
    "agent.load_agent_data()"
   ]
  },
  {
   "cell_type": "code",
   "execution_count": null,
   "metadata": {},
   "outputs": [],
   "source": [
    "CR_rate = np.sum(agent.CR_eval)/agent.max_result_window_eval\n",
    "print(f\"completion rate (eval): {CR_rate*100.}%\")\n",
    "\n",
    "plt.plot(agent.CR_eval)"
   ]
  },
  {
   "cell_type": "code",
   "execution_count": null,
   "metadata": {},
   "outputs": [],
   "source": [
    "AGS_rate = np.sum(np.array(agent.AGS_eval)*np.array(agent.CR_eval))/(np.array(agent.CR_eval) > 0).sum()\n",
    "print(f\"AGS rate (eval): {AGS_rate*100.}%\")\n",
    "\n",
    "plt.plot(agent.AGS_eval)"
   ]
  },
  {
   "cell_type": "code",
   "execution_count": null,
   "metadata": {},
   "outputs": [],
   "source": [
    "ATC_rate = np.sum(np.array(agent.ATC_eval)*np.array(agent.CR_eval))/(np.array(agent.CR_eval) > 0).sum()\n",
    "print(f\"ATC rate (eval): {ATC_rate}\")\n",
    "\n",
    "plt.plot(agent.ATC_eval, '--')\n",
    "plt.ylim([0, 25])"
   ]
  },
  {
   "cell_type": "code",
   "execution_count": null,
   "metadata": {},
   "outputs": [],
   "source": [
    "(np.array(agent.CR_eval) > 0).sum()"
   ]
  },
  {
   "cell_type": "code",
   "execution_count": null,
   "metadata": {},
   "outputs": [],
   "source": []
  }
 ],
 "metadata": {
  "kernelspec": {
   "display_name": "pytorch_env",
   "language": "python",
   "name": "python3"
  },
  "language_info": {
   "codemirror_mode": {
    "name": "ipython",
    "version": 3
   },
   "file_extension": ".py",
   "mimetype": "text/x-python",
   "name": "python",
   "nbconvert_exporter": "python",
   "pygments_lexer": "ipython3",
   "version": "3.9.19"
  }
 },
 "nbformat": 4,
 "nbformat_minor": 2
}
