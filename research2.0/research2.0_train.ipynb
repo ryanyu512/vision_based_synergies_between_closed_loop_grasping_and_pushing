{
 "cells": [
  {
   "cell_type": "markdown",
   "metadata": {},
   "source": [
    "# Import Libraries"
   ]
  },
  {
   "cell_type": "code",
   "execution_count": 1,
   "metadata": {},
   "outputs": [
    {
     "name": "stdout",
     "output_type": "stream",
     "text": [
      "[MAX_POSSIBLE_DIST]: 0.4428093360578569\n"
     ]
    }
   ],
   "source": [
    "import copy\n",
    "import utils\n",
    "import torch\n",
    "import constants\n",
    "import numpy as np\n",
    "import torch.nn as nn\n",
    "import torch.optim as optim\n",
    "import matplotlib.pyplot as plt\n",
    "\n",
    "from env import Env\n",
    "from agent import Agent\n",
    "from torchsummary import summary\n",
    "from torch.distributions import Normal, Categorical"
   ]
  },
  {
   "cell_type": "markdown",
   "metadata": {},
   "source": [
    "# Initialise Environment"
   ]
  },
  {
   "cell_type": "code",
   "execution_count": 2,
   "metadata": {},
   "outputs": [
    {
     "name": "stdout",
     "output_type": "stream",
     "text": [
      "workspace space: \n",
      "[[-0.26   0.04 ]\n",
      " [ 0.435  0.685]\n",
      " [ 0.     0.4  ]]\n"
     ]
    }
   ],
   "source": [
    "#initialise environment\n",
    "min_x, max_x =  -0.110 - 0.150,   -0.110 + 0.150\n",
    "min_y, max_y =   0.560 - 0.125,    0.560 + 0.125\n",
    "min_z, max_z =               0,              0.4 \n",
    "\n",
    "workspace_lim = np.asarray([[min_x, max_x], \n",
    "                            [min_y, max_y],\n",
    "                            [min_z, max_z]])\n",
    "\n",
    "print(f\"workspace space: \\n{workspace_lim}\")\n",
    "\n",
    "obj_dir = 'objects/blocks/'\n",
    "N_obj = 5\n",
    "\n",
    "env = Env(obj_dir, N_obj, workspace_lim, cluttered_mode= False, is_debug = False)"
   ]
  },
  {
   "cell_type": "markdown",
   "metadata": {},
   "source": [
    "# Initialise Agent"
   ]
  },
  {
   "cell_type": "code",
   "execution_count": 3,
   "metadata": {},
   "outputs": [
    {
     "name": "stdout",
     "output_type": "stream",
     "text": [
      "device: cuda\n",
      "[SUCCESS] initialise environment\n",
      "[SUCCESS] initialise networks\n"
     ]
    }
   ],
   "source": [
    "agent = Agent(env, \n",
    "              max_memory_size = 50000, \n",
    "              max_memory_size_rl = 50000,\n",
    "              max_memory_size_hld = 50000,\n",
    "              is_debug = True, \n",
    "              N_batch = 512, \n",
    "              N_batch_hld = 512, \n",
    "              lr = 1e-3, \n",
    "              hld_lr = 1e-3,\n",
    "              tau = 0.05,\n",
    "              tau_hld = 0.01,\n",
    "              max_action_taken = 50,\n",
    "              max_result_window = 500,\n",
    "              max_result_window_hld = 250,\n",
    "              max_result_window_eval = 100,\n",
    "              max_stage1_episode = 200,\n",
    "              N_grasp_step = 20, #define the maximum step for low-level grasping network\n",
    "              N_push_step = 20, #define the maximum step for low-level pushing network\n",
    "              checkpt_dir_agent=\"/media/ryan/Seagate/research_proj_backup/research_2.0/logs/agent\", \n",
    "              checkpt_dir_models=\"/media/ryan/Seagate/research_proj_backup/research_2.0/logs/models\",\n",
    "              exp_dir_expert=\"/media/ryan/Seagate/research_proj_backup/research_2.0/logs/exp_expert\", \n",
    "              exp_dir_rl=\"/media/ryan/Seagate/research_proj_backup/research_2.0/logs/exp_rl\",\n",
    "              exp_dir_hld=\"/media/ryan/Seagate/research_proj_backup/research_2.0/logs/exp_hld\")"
   ]
  },
  {
   "cell_type": "markdown",
   "metadata": {},
   "source": [
    "# Interact"
   ]
  },
  {
   "cell_type": "code",
   "execution_count": 4,
   "metadata": {},
   "outputs": [],
   "source": [
    "# from buffer import BufferReplay\n",
    "# from buffer_hld import BufferReplay_HLD\n",
    "# import os\n",
    "# import pickle"
   ]
  },
  {
   "cell_type": "code",
   "execution_count": 5,
   "metadata": {},
   "outputs": [],
   "source": [
    "# #save memory counter\n",
    "# data_dict_mem_counter = {'memory_cntr': agent.buffer_replay.memory_cntr}\n",
    "# file_name = os.path.join(agent.buffer_replay.checkpt_dir, \"memory_cntr.pkl\")\n",
    "\n",
    "# with open(file_name, 'wb') as file:\n",
    "#     pickle.dump(data_dict_mem_counter, file)"
   ]
  },
  {
   "cell_type": "code",
   "execution_count": 6,
   "metadata": {},
   "outputs": [],
   "source": [
    "# file_name = os.path.join(agent.buffer_replay.checkpt_dir, \"memory_cntr.pkl\")\n",
    "# with open(file_name, 'rb') as file:\n",
    "#     data_dict = pickle.load(file)\n",
    "#     agent.buffer_replay.memory_cntr = data_dict['memory_cntr']\n",
    "#     print(f\"lla memory_cntr: {agent.buffer_replay.memory_cntr}\")"
   ]
  },
  {
   "cell_type": "code",
   "execution_count": 7,
   "metadata": {},
   "outputs": [],
   "source": [
    "# #save memory counter\n",
    "# data_dict_mem_counter = {'memory_cntr': agent.buffer_replay_expert.memory_cntr}\n",
    "# file_name = os.path.join(agent.buffer_replay_expert.checkpt_dir, \"memory_cntr.pkl\")\n",
    "\n",
    "# with open(file_name, 'wb') as file:\n",
    "#     pickle.dump(data_dict_mem_counter, file)"
   ]
  },
  {
   "cell_type": "code",
   "execution_count": 8,
   "metadata": {},
   "outputs": [],
   "source": [
    "# #save memory counter\n",
    "# data_dict_mem_counter = {'memory_cntr': agent.buffer_replay_hld.memory_cntr}\n",
    "# file_name = os.path.join(agent.buffer_replay_hld.checkpt_dir, \"memory_cntr.pkl\")\n",
    "\n",
    "# with open(file_name, 'wb') as file:\n",
    "#     pickle.dump(data_dict_mem_counter, file)"
   ]
  },
  {
   "cell_type": "code",
   "execution_count": 9,
   "metadata": {},
   "outputs": [],
   "source": [
    "# exp_dir = os.listdir(agent.buffer_replay_hld.checkpt_dir)\n",
    "# print(len(exp_dir))\n",
    "# exp_dir.remove('memory_cntr.pkl')\n",
    "# print(len(exp_dir))"
   ]
  },
  {
   "cell_type": "code",
   "execution_count": 10,
   "metadata": {},
   "outputs": [],
   "source": [
    "# buffer_replay = BufferReplay(max_memory_size = agent.max_memory_size_rl, checkpt_dir = agent.exp_dir_rl)"
   ]
  },
  {
   "cell_type": "code",
   "execution_count": 11,
   "metadata": {},
   "outputs": [],
   "source": [
    "# buffer_replay_expert = BufferReplay(max_memory_size = agent.max_memory_size, checkpt_dir = agent.exp_dir_expert)"
   ]
  },
  {
   "cell_type": "code",
   "execution_count": 12,
   "metadata": {},
   "outputs": [],
   "source": [
    "# buffer_replay_hld = BufferReplay_HLD(max_memory_size = int(agent.max_memory_size_hld), checkpt_dir = agent.exp_dir_hld)"
   ]
  },
  {
   "cell_type": "code",
   "execution_count": 13,
   "metadata": {},
   "outputs": [
    {
     "name": "stdout",
     "output_type": "stream",
     "text": [
      "[LOAD BUFFER] data_length: 50000\n",
      "lla memory_cntr: 19518\n"
     ]
    }
   ],
   "source": [
    "agent.interact(max_episode = 601, \n",
    "               hld_mode = constants.HLD_MODE,\n",
    "               lla_mode = constants.BC_RL,\n",
    "               is_eval = False)"
   ]
  },
  {
   "cell_type": "code",
   "execution_count": 14,
   "metadata": {},
   "outputs": [],
   "source": [
    "agent.is_eval = False\n",
    "agent.load_agent_data()"
   ]
  },
  {
   "cell_type": "code",
   "execution_count": null,
   "metadata": {},
   "outputs": [],
   "source": [
    "plt.plot(np.array(agent.complete_record_train), 'o')"
   ]
  },
  {
   "cell_type": "code",
   "execution_count": 11,
   "metadata": {},
   "outputs": [],
   "source": [
    "# plt.plot(agent.action_taken_record_train, '-.')"
   ]
  },
  {
   "cell_type": "code",
   "execution_count": 12,
   "metadata": {},
   "outputs": [],
   "source": [
    "# fig, ax = plt.subplots(1, 2)\n",
    "\n",
    "# fig.set_figheight(5)\n",
    "# fig.set_figwidth(10)\n",
    "\n",
    "# ax[0].plot(np.array(agent.CR_train)*100., '-.')\n",
    "# ax[0].set_xlabel('Number of Episodes in stage 3 training')\n",
    "# ax[0].set_ylabel('Moveing Average of Completion Rate (%)')\n",
    "\n",
    "# ax[1].plot(agent.ATC_train, '-.')\n",
    "# ax[1].set_xlabel('Number of Episodes in stage 3 training')\n",
    "# ax[1].set_ylabel('Moving Average of Actions Taken for Completion')\n",
    "\n",
    "# print(f'max ATC: {np.array(agent.ATC_train[250:]).max()}')\n",
    "# print(f'min ATC: {np.array(agent.ATC_train[250:]).min()}')"
   ]
  },
  {
   "cell_type": "code",
   "execution_count": null,
   "metadata": {},
   "outputs": [],
   "source": [
    "fig, ax = plt.subplots(1, 2)\n",
    "\n",
    "fig.set_figheight(5)\n",
    "fig.set_figwidth(10)\n",
    "\n",
    "ax[0].plot(np.array(agent.grasp_success_rate_hist)*100.)\n",
    "ax[0].set_xlabel('Attempts Made by Grasping Network')\n",
    "ax[0].set_ylabel('Moving Average Success Rate (%)')\n",
    "\n",
    "ax[1].plot(np.array(agent.push_success_rate_hist)*100.)\n",
    "ax[1].set_xlabel('Attempts Made by Pushing Network')\n",
    "ax[1].set_ylabel('Moving Average Success Rate (%)')\n",
    "\n",
    "fig.tight_layout()\n",
    "\n",
    "print(f'best grasp success rate: {np.array(agent.grasp_success_rate_hist).max()*100.}%')\n",
    "print(f'best push success rate: {np.array(agent.push_success_rate_hist).max()*100.}%')"
   ]
  },
  {
   "cell_type": "code",
   "execution_count": null,
   "metadata": {},
   "outputs": [],
   "source": []
  }
 ],
 "metadata": {
  "kernelspec": {
   "display_name": "pytorch_env",
   "language": "python",
   "name": "python3"
  },
  "language_info": {
   "codemirror_mode": {
    "name": "ipython",
    "version": 3
   },
   "file_extension": ".py",
   "mimetype": "text/x-python",
   "name": "python",
   "nbconvert_exporter": "python",
   "pygments_lexer": "ipython3",
   "version": "3.9.19"
  }
 },
 "nbformat": 4,
 "nbformat_minor": 2
}
