{
 "cells": [
  {
   "cell_type": "markdown",
   "metadata": {},
   "source": [
    "# Import Libraries"
   ]
  },
  {
   "cell_type": "code",
   "execution_count": 5,
   "metadata": {},
   "outputs": [],
   "source": [
    "import copy\n",
    "import utils\n",
    "import torch\n",
    "import constants\n",
    "import numpy as np\n",
    "import torch.nn as nn\n",
    "import torch.optim as optim\n",
    "import matplotlib.pyplot as plt\n",
    "\n",
    "from env import Env\n",
    "from agent import Agent\n",
    "from torchsummary import summary\n",
    "from torch.distributions import Normal, Categorical"
   ]
  },
  {
   "cell_type": "markdown",
   "metadata": {},
   "source": [
    "# Initialise Environment"
   ]
  },
  {
   "cell_type": "code",
   "execution_count": null,
   "metadata": {},
   "outputs": [],
   "source": [
    "#initialise environment\n",
    "min_x, max_x =  -0.110 - 0.150,   -0.110 + 0.150\n",
    "min_y, max_y =   0.560 - 0.125,    0.560 + 0.125\n",
    "min_z, max_z =               0,              0.4 \n",
    "\n",
    "workspace_lim = np.asarray([[min_x, max_x], \n",
    "                            [min_y, max_y],\n",
    "                            [min_z, max_z]])\n",
    "\n",
    "print(f\"workspace space: \\n{workspace_lim}\")\n",
    "\n",
    "obj_dir = 'objects/blocks/'\n",
    "N_obj = 5\n",
    "\n",
    "env = Env(obj_dir, N_obj, workspace_lim, cluttered_mode= True, is_debug = False)"
   ]
  },
  {
   "cell_type": "markdown",
   "metadata": {},
   "source": [
    "# Initialise Agent"
   ]
  },
  {
   "cell_type": "code",
   "execution_count": null,
   "metadata": {},
   "outputs": [],
   "source": [
    "agent = Agent(env, \n",
    "              max_memory_size = 100000, \n",
    "              max_memory_size_rl = 200000,\n",
    "              max_memory_size_hld = 50000,\n",
    "              is_debug = True, \n",
    "              N_batch = 512, \n",
    "              N_batch_hld = 512, \n",
    "              lr = 1e-4, \n",
    "              hld_lr = 1e-4,\n",
    "              tau = 0.05,\n",
    "              tau_hld = 0.05,\n",
    "              max_action_taken = 50,\n",
    "              max_result_window = 500,\n",
    "              max_result_window_hld = 250,\n",
    "              max_result_window_eval = 100,\n",
    "              max_stage1_episode = 200,\n",
    "              N_grasp_step = 25, \n",
    "              N_push_step = 25, \n",
    "              success_rate_threshold = 0.7,\n",
    "              checkpt_dir_agent=\"/logs/agent\", #need to change to your own path\n",
    "              checkpt_dir_models=\"/logs/models\", #need to change to your own path\n",
    "              exp_dir_expert=\"/logs/exp_expert\", #need to change to your own path\n",
    "              exp_dir_rl=\"/logs/exp_rl\", #need to change to your own path\n",
    "              exp_dir_hld=\"/logs/exp_hld\") #need to change to your own path"
   ]
  },
  {
   "cell_type": "markdown",
   "metadata": {},
   "source": [
    "# Interact"
   ]
  },
  {
   "cell_type": "code",
   "execution_count": 4,
   "metadata": {},
   "outputs": [],
   "source": [
    "agent.interact(max_episode = 2000, \n",
    "               hld_mode = constants.HLD_MODE,\n",
    "               lla_mode = constants.BC_RL,\n",
    "               is_eval = False)"
   ]
  },
  {
   "cell_type": "code",
   "execution_count": 5,
   "metadata": {},
   "outputs": [],
   "source": [
    "agent.is_eval = False\n",
    "agent.load_agent_data()"
   ]
  },
  {
   "cell_type": "code",
   "execution_count": null,
   "metadata": {},
   "outputs": [],
   "source": [
    "plt.plot(np.array(agent.complete_record_train), 'o')"
   ]
  },
  {
   "cell_type": "code",
   "execution_count": null,
   "metadata": {},
   "outputs": [],
   "source": [
    "ATC_mean_train = np.sum(agent.action_taken_record_train)/(np.array(agent.action_taken_record_train) > 0).sum()\n",
    "print(f\"[HLD ATC] ATC mean: {ATC_mean_train}/{agent.best_ATC_mean_train} [{agent.max_result_window_hld}]\")\n",
    "\n",
    "plt.plot(agent.action_taken_record_train, '-.')"
   ]
  },
  {
   "cell_type": "code",
   "execution_count": null,
   "metadata": {},
   "outputs": [],
   "source": [
    "fig, axs = plt.subplots(1, 2)\n",
    "\n",
    "fig.set_figheight(5)\n",
    "fig.set_figwidth(10)\n",
    "\n",
    "fontsize = 12\n",
    "font = {'fontname':'Times New Roman', 'fontsize': fontsize}\n",
    "\n",
    "axs[0].plot(np.array(agent.CR_train)*100., '-.')\n",
    "axs[0].set_xlabel('Number of Episodes in Phase 3 Training', **font)\n",
    "axs[0].set_ylabel('Training Completion Rate (TCR %)', **font)\n",
    "\n",
    "axs[1].plot(agent.ATC_train, '-.')\n",
    "axs[1].set_xlabel('Number of Episodes in Phase 3 Training', **font)\n",
    "axs[1].set_ylabel('Decisions Taken for Completion (DTC)', **font)\n",
    "\n",
    "for ax in axs.flat:\n",
    "    ax.tick_params(axis='x', labelsize=fontsize)\n",
    "    ax.tick_params(axis='y', labelsize=fontsize)\n",
    "\n",
    "fig.tight_layout()\n",
    "print(f'max ATC: {np.array(agent.ATC_train[250:]).max()}')\n",
    "print(f'min ATC: {np.array(agent.ATC_train[250:]).min()}')"
   ]
  },
  {
   "cell_type": "code",
   "execution_count": null,
   "metadata": {},
   "outputs": [],
   "source": [
    "fig, axs = plt.subplots(1, 2)\n",
    "\n",
    "fig.set_figheight(5)\n",
    "fig.set_figwidth(10)\n",
    "\n",
    "axs[0].plot(np.array(agent.grasp_success_rate_hist)*100.)\n",
    "axs[0].set_xlabel('Number of Effective Grasping Decisions', **font)\n",
    "axs[0].set_ylabel('Training Success Rate (%)', **font)\n",
    "\n",
    "axs[1].plot(np.array(agent.push_success_rate_hist)*100.)\n",
    "axs[1].set_xlabel('Number of Effective Pushing Decisions', **font)\n",
    "axs[1].set_ylabel('Training Success Rate (%)', **font)\n",
    "\n",
    "for ax in axs.flat:\n",
    "    ax.tick_params(axis='x', labelsize=10)\n",
    "    ax.tick_params(axis='y', labelsize=10)\n",
    "\n",
    "print(f'best grasp success rate: {np.array(agent.grasp_success_rate_hist).max()*100.}%')\n",
    "print(f'best push success rate: {np.array(agent.push_success_rate_hist).max()*100.}%')"
   ]
  },
  {
   "cell_type": "code",
   "execution_count": null,
   "metadata": {},
   "outputs": [],
   "source": [
    "agent.episode"
   ]
  },
  {
   "cell_type": "code",
   "execution_count": null,
   "metadata": {},
   "outputs": [],
   "source": []
  }
 ],
 "metadata": {
  "kernelspec": {
   "display_name": "pytorch_env",
   "language": "python",
   "name": "python3"
  },
  "language_info": {
   "codemirror_mode": {
    "name": "ipython",
    "version": 3
   },
   "file_extension": ".py",
   "mimetype": "text/x-python",
   "name": "python",
   "nbconvert_exporter": "python",
   "pygments_lexer": "ipython3",
   "version": "3.9.20"
  }
 },
 "nbformat": 4,
 "nbformat_minor": 2
}
