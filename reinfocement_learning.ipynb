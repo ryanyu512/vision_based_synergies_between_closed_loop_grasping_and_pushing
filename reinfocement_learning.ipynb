{
 "cells": [
  {
   "cell_type": "markdown",
   "metadata": {},
   "source": [
    "# Import Libraries"
   ]
  },
  {
   "cell_type": "code",
   "execution_count": null,
   "metadata": {},
   "outputs": [],
   "source": [
    "import copy\n",
    "import utils\n",
    "import torch\n",
    "import constants\n",
    "import numpy as np\n",
    "import torch.nn as nn\n",
    "import torch.optim as optim\n",
    "import matplotlib.pyplot as plt\n",
    "\n",
    "from env import Env\n",
    "from agent import Agent\n",
    "from torchsummary import summary\n",
    "from torch.distributions import Normal, Categorical"
   ]
  },
  {
   "cell_type": "markdown",
   "metadata": {},
   "source": [
    "# Initialise Environment"
   ]
  },
  {
   "cell_type": "code",
   "execution_count": null,
   "metadata": {},
   "outputs": [],
   "source": [
    "#initialise environment\n",
    "min_x, max_x =  -0.110 - 0.150,   -0.110 + 0.150\n",
    "min_y, max_y =   0.560 - 0.125,    0.560 + 0.125\n",
    "min_z, max_z =               0,              0.4 \n",
    "\n",
    "workspace_lim = np.asarray([[min_x, max_x], \n",
    "                            [min_y, max_y],\n",
    "                            [min_z, max_z]])\n",
    "\n",
    "print(f\"workspace space: \\n{workspace_lim}\")\n",
    "\n",
    "obj_dir = 'objects/blocks/'\n",
    "N_obj   = 4\n",
    "\n",
    "env = Env(obj_dir, N_obj, workspace_lim, cluttered_mode= True, is_debug = False)"
   ]
  },
  {
   "cell_type": "markdown",
   "metadata": {},
   "source": [
    "# Initialise Agent"
   ]
  },
  {
   "cell_type": "code",
   "execution_count": null,
   "metadata": {},
   "outputs": [],
   "source": [
    "agent = Agent(env, \n",
    "              max_memory_size = 25000, \n",
    "              is_debug        = False, \n",
    "              N_batch         = 1024, \n",
    "              N_batch_hld     = 256, \n",
    "              lr              = 1e-4, \n",
    "              hld_lr          = 1e-3,\n",
    "              tau             = 0.01,\n",
    "              tau_hld         = 0.01,\n",
    "              max_step        = 250)"
   ]
  },
  {
   "cell_type": "markdown",
   "metadata": {},
   "source": [
    "# Gather RL Experience"
   ]
  },
  {
   "cell_type": "code",
   "execution_count": null,
   "metadata": {},
   "outputs": [],
   "source": [
    "agent.interact_test(max_episode = 10, is_train = True)"
   ]
  },
  {
   "cell_type": "code",
   "execution_count": null,
   "metadata": {},
   "outputs": [],
   "source": [
    "agent.load_agent_data()\n",
    "plt.plot(agent.grasp_success_rate_hist)"
   ]
  },
  {
   "cell_type": "code",
   "execution_count": null,
   "metadata": {},
   "outputs": [],
   "source": [
    "plt.plot(agent.push_success_rate_hist)"
   ]
  },
  {
   "cell_type": "code",
   "execution_count": null,
   "metadata": {},
   "outputs": [],
   "source": [
    "agent.load_agent_data()\n",
    "print(agent.bc_lambda)                    \n",
    "print(agent.grasp_record_list)      \n",
    "print(agent.push_record_list)        \n",
    "print(agent.grasp_record_index)      \n",
    "print(agent.push_record_index)       \n",
    "print(agent.best_grasp_success_rate) \n",
    "print(agent.best_push_success_rate)  \n",
    "print(agent.grasp_success_rate_hist) \n",
    "print(agent.push_success_rate_hist)  "
   ]
  },
  {
   "cell_type": "code",
   "execution_count": null,
   "metadata": {},
   "outputs": [],
   "source": []
  }
 ],
 "metadata": {
  "kernelspec": {
   "display_name": "pytorch_env",
   "language": "python",
   "name": "python3"
  },
  "language_info": {
   "codemirror_mode": {
    "name": "ipython",
    "version": 3
   },
   "file_extension": ".py",
   "mimetype": "text/x-python",
   "name": "python",
   "nbconvert_exporter": "python",
   "pygments_lexer": "ipython3",
   "version": "3.9.19"
  }
 },
 "nbformat": 4,
 "nbformat_minor": 2
}
